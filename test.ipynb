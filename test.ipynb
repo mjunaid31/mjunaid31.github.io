{
 "cells": [
  {
   "cell_type": "markdown",
   "metadata": {},
   "source": [
    "$$\\frac{\\partial \\overline B_r}{\\partial t} = - \\frac{\\overline V_r}{r} \\frac{\\partial}{\\partial r}(r\\overline B_r) -  \\frac{\\partial}{\\partial z}(\\overline V_z \\overline B_r) -  \\frac{\\partial}{\\partial z}(\\alpha \\overline B_{\\phi}) + \\eta_t \\left[  \\frac{\\partial}{\\partial r} \\left( \\frac{1}{r}  \\frac{\\partial}{\\partial r}(r \\overline B_r)\\right) +  \\frac{\\partial ^2 \\overline B_r}{\\partial z^2} \\right]$$\n",
    "\n",
    "$$\\frac{\\partial \\overline B_{\\phi}}{\\partial t} = - q\\Omega \\overline B_{r} -  \\frac{\\partial}{\\partial r}(\\overline V_r \\overline B_{\\phi}) -  \\frac{\\partial}{\\partial z}(\\overline V_z \\overline B_{\\phi}) +  \\frac{\\partial}{\\partial z}(\\alpha \\overline B_{r}) + \\eta_t \\left[  \\frac{\\partial}{\\partial r} \\left( \\frac{1}{r}  \\frac{\\partial}{\\partial r}(r \\overline B_{\\phi})\\right) +  \\frac{\\partial ^2 \\overline B_{\\phi}}{\\partial z^2} \\right]$$"
   ]
  },
  {
   "cell_type": "markdown",
   "metadata": {},
   "source": [
    "\n",
    "$$\\frac{\\partial B_{\\phi}'}{\\partial t'}=-q\\Omega' B_r'+\\frac{\\partial }{\\partial z'}(V_z' B_{\\phi}')-\\frac{\\partial }{\\partial z}(\\alpha' B_r')+\\frac{\\partial^2 B_{\\phi}'}{\\partial z'^2}$$"
   ]
  },
  {
   "cell_type": "markdown",
   "metadata": {},
   "source": [
    "$$K1=dt(f(\\overline{B}))$$\n",
    "$$K2=dt(f(\\overline{B}+K1/2))$$\n",
    "$$K3=dt(f(\\overline{B}+K2/2))$$\n",
    "$$K4=dt(f(\\overline{B}+K3))$$"
   ]
  },
  {
   "cell_type": "markdown",
   "metadata": {},
   "source": [
    "Induction equation given by Galactic mean field theory is\n",
    "\n",
    "$$\\frac{\\partial \\overline B_r}{\\partial t} = - \\frac{\\overline V_r}{r} \\frac{\\partial}{\\partial r}(r\\overline B_r) -  \\frac{\\partial}{\\partial z}(\\overline V_z \\overline B_r) -  \\frac{\\partial}{\\partial z}(\\alpha \\overline B_{\\phi}) + \\eta_t \\left[  \\frac{\\partial}{\\partial r} \\left( \\frac{1}{r}  \\frac{\\partial}{\\partial r}(r \\overline B_r)\\right) +  \\frac{\\partial ^2 \\overline B_r}{\\partial z^2} \\right]$$\n",
    "\n",
    "$$\\frac{\\partial \\overline B_{\\phi}}{\\partial t} = - q\\Omega \\overline B_{r} -  \\frac{\\partial}{\\partial r}(\\overline V_r \\overline B_{\\phi}) -  \\frac{\\partial}{\\partial z}(\\overline V_z \\overline B_{\\phi}) +  \\frac{\\partial}{\\partial z}(\\alpha \\overline B_{r}) + \\eta_t \\left[  \\frac{\\partial}{\\partial r} \\left( \\frac{1}{r}  \\frac{\\partial}{\\partial r}(r \\overline B_{\\phi})\\right) +  \\frac{\\partial ^2 \\overline B_{\\phi}}{\\partial z^2} \\right]$$\n",
    "\n",
    "where $\\overline B_r$ and  $\\overline B_{\\phi}$ are the components of the magnetic field, $\\overline V_r$, and $\\overline V_z$ are the components of the velocity field, $\\alpha$ is the dynamo alpha effect, $\\Omega$ is the angular velocity of the galaxy, $q$ is the shear parameter, and $\\eta_t$ is the turbulent magnetic diffusivity.\n",
    "\n",
    "Unlke Task2 where we discarded velocity terms, here, we include terms with $\\overline V_z$, to study impact of vertical outflows on the evolution of galactic magnetic fields. In particular $\\overline V_z$ is increased with time to show quencing of the dynamo. Then the unitless induction equation is given by \n",
    "$$\\frac{\\partial B_r'}{\\partial t'} = \\frac{\\partial}{\\partial z'}(V_z'B_r') - \\frac{\\partial}{\\partial z'}(\\alpha'B_{\\phi}') + \\frac{\\partial^2 B_r'}{\\partial z'^2}$$\n",
    "\n",
    "\n",
    "$$\\frac{\\partial B_{\\phi}'}{\\partial t'}=-q\\Omega' B_r'+\\frac{\\partial }{\\partial z'}(V_z' B_{\\phi}')-\\frac{\\partial }{\\partial z}(\\alpha' B_r')+\\frac{\\partial^2 B_{\\phi}'}{\\partial z'^2}$$\n",
    "\n",
    "## Computational methods\n",
    "\n",
    "\n",
    "The spatial derivatives are calculated using the finite difference method. 2nd order finite difference method is given by: \n",
    "$$\n",
    "f'_{i} = \\frac{{-f_{i-1} + f_{i+1}}}{2\\delta x}\n",
    "$$\n",
    "\n",
    "$$\n",
    "f\"_{i} = \\frac{{f_{i-1} - 2f_i + f_{i+1}}}{\\delta x^2}\n",
    "$$\n",
    "\n",
    "and for boundary meshes: \n",
    "$$\n",
    "f'_{i} = \\frac{-3f_i + 4f_{i+1} - f_{i+2}}{2\\delta x}, \\quad f\"_{i} = \\frac{2f_i - 5f_{i+1} + 4f_{i+2} - f_{i+3}}{\\delta x^2},\n",
    "$$\n",
    "\n",
    "and\n",
    "\n",
    "$$\n",
    "f'_{i} = \\frac{3f_i - 4f_{i-1} + f_{i-2}}{2\\delta x}, \\quad f\"_{i} = \\frac{2f_i - 5f_{i-1} + 4f_{i-2} - f_{i-3}}{\\delta x^2}.\n",
    "$$\n",
    "\n",
    "As we are not comsidering z to be changing with time, partial differential equations are approximated to ordianry differential equations and use RK4 Time stepping for time evolution. The evolution function is:\n",
    "\n",
    "$\\frac{\\partial \\overline B}{\\partial t} = f(\\overline B)$\n",
    "\n",
    "The algorithm is given by:\n",
    "\n",
    "$$K1=dt(f(\\overline{B}))$$\n",
    "$$K2=dt(f(\\overline{B}+K1/2))$$\n",
    "$$K3=dt(f(\\overline{B}+K2/2))$$\n",
    "$$K4=dt(f(\\overline{B}+K3))$$\n",
    "\n",
    "$$\\overline{B}(t+dt)=\\overline{B}(t)+\\frac{1}{6}(K1+2K2+3K3+K4)$$\n",
    "\n",
    "Antisymmetric ghost zones are used to maintain boundary condition\n"
   ]
  }
 ],
 "metadata": {
  "language_info": {
   "name": "python"
  }
 },
 "nbformat": 4,
 "nbformat_minor": 2
}
